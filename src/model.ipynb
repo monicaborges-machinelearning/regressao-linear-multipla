{
 "cells": [
  {
   "cell_type": "code",
   "execution_count": 1,
   "metadata": {},
   "outputs": [],
   "source": [
    "import pandas as pd\n",
    "import numpy as np\n",
    "import seaborn as sns\n",
    "import statistics\n",
    "import math\n",
    "import scipy.stats as stats\n",
    "import statsmodels.api as sm\n",
    "import matplotlib.pyplot as plt\n",
    "import statsmodels.formula.api as smf\n",
    "import statsmodels.stats.api as sms\n",
    "from patsy import dmatrices\n",
    "from statsmodels.stats.outliers_influence import variance_inflation_factor\n",
    "from statsmodels.compat import lzip"
   ]
  },
  {
   "cell_type": "code",
   "execution_count": 2,
   "metadata": {},
   "outputs": [
    {
     "data": {
      "text/html": [
       "<div>\n",
       "<style scoped>\n",
       "    .dataframe tbody tr th:only-of-type {\n",
       "        vertical-align: middle;\n",
       "    }\n",
       "\n",
       "    .dataframe tbody tr th {\n",
       "        vertical-align: top;\n",
       "    }\n",
       "\n",
       "    .dataframe thead th {\n",
       "        text-align: right;\n",
       "    }\n",
       "</style>\n",
       "<table border=\"1\" class=\"dataframe\">\n",
       "  <thead>\n",
       "    <tr style=\"text-align: right;\">\n",
       "      <th></th>\n",
       "      <th>Density</th>\n",
       "      <th>bodyfat</th>\n",
       "      <th>Age</th>\n",
       "      <th>Weight</th>\n",
       "      <th>Height</th>\n",
       "      <th>Neck</th>\n",
       "      <th>Chest</th>\n",
       "      <th>Abdomen</th>\n",
       "      <th>Hip</th>\n",
       "      <th>Thigh</th>\n",
       "      <th>Knee</th>\n",
       "      <th>Ankle</th>\n",
       "      <th>Biceps</th>\n",
       "      <th>Forearm</th>\n",
       "      <th>Wrist</th>\n",
       "    </tr>\n",
       "  </thead>\n",
       "  <tbody>\n",
       "    <tr>\n",
       "      <th>0</th>\n",
       "      <td>1.0708</td>\n",
       "      <td>12.3</td>\n",
       "      <td>23</td>\n",
       "      <td>154.25</td>\n",
       "      <td>67.75</td>\n",
       "      <td>36.2</td>\n",
       "      <td>93.1</td>\n",
       "      <td>85.2</td>\n",
       "      <td>94.5</td>\n",
       "      <td>59.0</td>\n",
       "      <td>37.3</td>\n",
       "      <td>21.9</td>\n",
       "      <td>32.0</td>\n",
       "      <td>27.4</td>\n",
       "      <td>17.1</td>\n",
       "    </tr>\n",
       "    <tr>\n",
       "      <th>1</th>\n",
       "      <td>1.0853</td>\n",
       "      <td>6.1</td>\n",
       "      <td>22</td>\n",
       "      <td>173.25</td>\n",
       "      <td>72.25</td>\n",
       "      <td>38.5</td>\n",
       "      <td>93.6</td>\n",
       "      <td>83.0</td>\n",
       "      <td>98.7</td>\n",
       "      <td>58.7</td>\n",
       "      <td>37.3</td>\n",
       "      <td>23.4</td>\n",
       "      <td>30.5</td>\n",
       "      <td>28.9</td>\n",
       "      <td>18.2</td>\n",
       "    </tr>\n",
       "    <tr>\n",
       "      <th>2</th>\n",
       "      <td>1.0414</td>\n",
       "      <td>25.3</td>\n",
       "      <td>22</td>\n",
       "      <td>154.00</td>\n",
       "      <td>66.25</td>\n",
       "      <td>34.0</td>\n",
       "      <td>95.8</td>\n",
       "      <td>87.9</td>\n",
       "      <td>99.2</td>\n",
       "      <td>59.6</td>\n",
       "      <td>38.9</td>\n",
       "      <td>24.0</td>\n",
       "      <td>28.8</td>\n",
       "      <td>25.2</td>\n",
       "      <td>16.6</td>\n",
       "    </tr>\n",
       "    <tr>\n",
       "      <th>3</th>\n",
       "      <td>1.0751</td>\n",
       "      <td>10.4</td>\n",
       "      <td>26</td>\n",
       "      <td>184.75</td>\n",
       "      <td>72.25</td>\n",
       "      <td>37.4</td>\n",
       "      <td>101.8</td>\n",
       "      <td>86.4</td>\n",
       "      <td>101.2</td>\n",
       "      <td>60.1</td>\n",
       "      <td>37.3</td>\n",
       "      <td>22.8</td>\n",
       "      <td>32.4</td>\n",
       "      <td>29.4</td>\n",
       "      <td>18.2</td>\n",
       "    </tr>\n",
       "    <tr>\n",
       "      <th>4</th>\n",
       "      <td>1.0340</td>\n",
       "      <td>28.7</td>\n",
       "      <td>24</td>\n",
       "      <td>184.25</td>\n",
       "      <td>71.25</td>\n",
       "      <td>34.4</td>\n",
       "      <td>97.3</td>\n",
       "      <td>100.0</td>\n",
       "      <td>101.9</td>\n",
       "      <td>63.2</td>\n",
       "      <td>42.2</td>\n",
       "      <td>24.0</td>\n",
       "      <td>32.2</td>\n",
       "      <td>27.7</td>\n",
       "      <td>17.7</td>\n",
       "    </tr>\n",
       "    <tr>\n",
       "      <th>...</th>\n",
       "      <td>...</td>\n",
       "      <td>...</td>\n",
       "      <td>...</td>\n",
       "      <td>...</td>\n",
       "      <td>...</td>\n",
       "      <td>...</td>\n",
       "      <td>...</td>\n",
       "      <td>...</td>\n",
       "      <td>...</td>\n",
       "      <td>...</td>\n",
       "      <td>...</td>\n",
       "      <td>...</td>\n",
       "      <td>...</td>\n",
       "      <td>...</td>\n",
       "      <td>...</td>\n",
       "    </tr>\n",
       "    <tr>\n",
       "      <th>247</th>\n",
       "      <td>1.0736</td>\n",
       "      <td>11.0</td>\n",
       "      <td>70</td>\n",
       "      <td>134.25</td>\n",
       "      <td>67.00</td>\n",
       "      <td>34.9</td>\n",
       "      <td>89.2</td>\n",
       "      <td>83.6</td>\n",
       "      <td>88.8</td>\n",
       "      <td>49.6</td>\n",
       "      <td>34.8</td>\n",
       "      <td>21.5</td>\n",
       "      <td>25.6</td>\n",
       "      <td>25.7</td>\n",
       "      <td>18.5</td>\n",
       "    </tr>\n",
       "    <tr>\n",
       "      <th>248</th>\n",
       "      <td>1.0236</td>\n",
       "      <td>33.6</td>\n",
       "      <td>72</td>\n",
       "      <td>201.00</td>\n",
       "      <td>69.75</td>\n",
       "      <td>40.9</td>\n",
       "      <td>108.5</td>\n",
       "      <td>105.0</td>\n",
       "      <td>104.5</td>\n",
       "      <td>59.6</td>\n",
       "      <td>40.8</td>\n",
       "      <td>23.2</td>\n",
       "      <td>35.2</td>\n",
       "      <td>28.6</td>\n",
       "      <td>20.1</td>\n",
       "    </tr>\n",
       "    <tr>\n",
       "      <th>249</th>\n",
       "      <td>1.0328</td>\n",
       "      <td>29.3</td>\n",
       "      <td>72</td>\n",
       "      <td>186.75</td>\n",
       "      <td>66.00</td>\n",
       "      <td>38.9</td>\n",
       "      <td>111.1</td>\n",
       "      <td>111.5</td>\n",
       "      <td>101.7</td>\n",
       "      <td>60.3</td>\n",
       "      <td>37.3</td>\n",
       "      <td>21.5</td>\n",
       "      <td>31.3</td>\n",
       "      <td>27.2</td>\n",
       "      <td>18.0</td>\n",
       "    </tr>\n",
       "    <tr>\n",
       "      <th>250</th>\n",
       "      <td>1.0399</td>\n",
       "      <td>26.0</td>\n",
       "      <td>72</td>\n",
       "      <td>190.75</td>\n",
       "      <td>70.50</td>\n",
       "      <td>38.9</td>\n",
       "      <td>108.3</td>\n",
       "      <td>101.3</td>\n",
       "      <td>97.8</td>\n",
       "      <td>56.0</td>\n",
       "      <td>41.6</td>\n",
       "      <td>22.7</td>\n",
       "      <td>30.5</td>\n",
       "      <td>29.4</td>\n",
       "      <td>19.8</td>\n",
       "    </tr>\n",
       "    <tr>\n",
       "      <th>251</th>\n",
       "      <td>1.0271</td>\n",
       "      <td>31.9</td>\n",
       "      <td>74</td>\n",
       "      <td>207.50</td>\n",
       "      <td>70.00</td>\n",
       "      <td>40.8</td>\n",
       "      <td>112.4</td>\n",
       "      <td>108.5</td>\n",
       "      <td>107.1</td>\n",
       "      <td>59.3</td>\n",
       "      <td>42.2</td>\n",
       "      <td>24.6</td>\n",
       "      <td>33.7</td>\n",
       "      <td>30.0</td>\n",
       "      <td>20.9</td>\n",
       "    </tr>\n",
       "  </tbody>\n",
       "</table>\n",
       "<p>252 rows × 15 columns</p>\n",
       "</div>"
      ],
      "text/plain": [
       "     Density  bodyfat  Age  Weight  Height  Neck  Chest  Abdomen    Hip  \\\n",
       "0     1.0708     12.3   23  154.25   67.75  36.2   93.1     85.2   94.5   \n",
       "1     1.0853      6.1   22  173.25   72.25  38.5   93.6     83.0   98.7   \n",
       "2     1.0414     25.3   22  154.00   66.25  34.0   95.8     87.9   99.2   \n",
       "3     1.0751     10.4   26  184.75   72.25  37.4  101.8     86.4  101.2   \n",
       "4     1.0340     28.7   24  184.25   71.25  34.4   97.3    100.0  101.9   \n",
       "..       ...      ...  ...     ...     ...   ...    ...      ...    ...   \n",
       "247   1.0736     11.0   70  134.25   67.00  34.9   89.2     83.6   88.8   \n",
       "248   1.0236     33.6   72  201.00   69.75  40.9  108.5    105.0  104.5   \n",
       "249   1.0328     29.3   72  186.75   66.00  38.9  111.1    111.5  101.7   \n",
       "250   1.0399     26.0   72  190.75   70.50  38.9  108.3    101.3   97.8   \n",
       "251   1.0271     31.9   74  207.50   70.00  40.8  112.4    108.5  107.1   \n",
       "\n",
       "     Thigh  Knee  Ankle  Biceps  Forearm  Wrist  \n",
       "0     59.0  37.3   21.9    32.0     27.4   17.1  \n",
       "1     58.7  37.3   23.4    30.5     28.9   18.2  \n",
       "2     59.6  38.9   24.0    28.8     25.2   16.6  \n",
       "3     60.1  37.3   22.8    32.4     29.4   18.2  \n",
       "4     63.2  42.2   24.0    32.2     27.7   17.7  \n",
       "..     ...   ...    ...     ...      ...    ...  \n",
       "247   49.6  34.8   21.5    25.6     25.7   18.5  \n",
       "248   59.6  40.8   23.2    35.2     28.6   20.1  \n",
       "249   60.3  37.3   21.5    31.3     27.2   18.0  \n",
       "250   56.0  41.6   22.7    30.5     29.4   19.8  \n",
       "251   59.3  42.2   24.6    33.7     30.0   20.9  \n",
       "\n",
       "[252 rows x 15 columns]"
      ]
     },
     "execution_count": 2,
     "metadata": {},
     "output_type": "execute_result"
    }
   ],
   "source": [
    "# importando CSV que foi baixado em: http://staff.pubhealth.ku.dk/~tag/Teaching/share/data/Bodyfat.html\n",
    "path = 'C:/Users/2104734084/Documents/Modelos_MachineLearning/regressao-linear-multipla/data/'\n",
    "file_name = 'Bodyfat.csv'\n",
    "\n",
    "df = pd.read_csv(f\"{path}{file_name}\")\n",
    "df\n"
   ]
  },
  {
   "cell_type": "code",
   "execution_count": 3,
   "metadata": {},
   "outputs": [],
   "source": [
    "#Descritiva entre as variáveis:bodyfat e Wrist"
   ]
  },
  {
   "cell_type": "code",
   "execution_count": 4,
   "metadata": {},
   "outputs": [
    {
     "data": {
      "text/plain": [
       "count    252.000000\n",
       "mean      19.150794\n",
       "std        8.368740\n",
       "min        0.000000\n",
       "25%       12.475000\n",
       "50%       19.200000\n",
       "75%       25.300000\n",
       "max       47.500000\n",
       "Name: bodyfat, dtype: float64"
      ]
     },
     "execution_count": 4,
     "metadata": {},
     "output_type": "execute_result"
    }
   ],
   "source": [
    "df['bodyfat'].describe()"
   ]
  },
  {
   "cell_type": "code",
   "execution_count": 5,
   "metadata": {},
   "outputs": [
    {
     "data": {
      "text/plain": [
       "count    252.000000\n",
       "mean      18.229762\n",
       "std        0.933585\n",
       "min       15.800000\n",
       "25%       17.600000\n",
       "50%       18.300000\n",
       "75%       18.800000\n",
       "max       21.400000\n",
       "Name: Wrist, dtype: float64"
      ]
     },
     "execution_count": 5,
     "metadata": {},
     "output_type": "execute_result"
    }
   ],
   "source": [
    "df['Wrist'].describe()"
   ]
  },
  {
   "cell_type": "code",
   "execution_count": 6,
   "metadata": {},
   "outputs": [
    {
     "data": {
      "text/plain": [
       "<AxesSubplot:xlabel='bodyfat'>"
      ]
     },
     "execution_count": 6,
     "metadata": {},
     "output_type": "execute_result"
    },
    {
     "data": {
      "image/png": "[encoded data removed]",
      "text/plain": [
       "<Figure size 432x288 with 1 Axes>"
      ]
     },
     "metadata": {
      "needs_background": "light"
     },
     "output_type": "display_data"
    }
   ],
   "source": [
    "sns.boxplot(x=df['bodyfat'])\n",
    "#Repare que existem valores muito discrepantes, portanto, é necessário entender se existe \n",
    "#  necessidade de eliminar os dados."
   ]
  },
  {
   "cell_type": "code",
   "execution_count": 7,
   "metadata": {},
   "outputs": [
    {
     "data": {
      "text/plain": [
       "<AxesSubplot:xlabel='Wrist'>"
      ]
     },
     "execution_count": 7,
     "metadata": {},
     "output_type": "execute_result"
    },
    {
     "data": {
      "image/png": "[encoded data removed]",
      "text/plain": [
       "<Figure size 432x288 with 1 Axes>"
      ]
     },
     "metadata": {
      "needs_background": "light"
     },
     "output_type": "display_data"
    }
   ],
   "source": [
    "sns.boxplot(x=df['Wrist'])"
   ]
  },
  {
   "cell_type": "code",
   "execution_count": 8,
   "metadata": {},
   "outputs": [
    {
     "data": {
      "text/plain": [
       "<AxesSubplot:>"
      ]
     },
     "execution_count": 8,
     "metadata": {},
     "output_type": "execute_result"
    },
    {
     "data": {
      "image/png": "[encoded data removed]",
      "text/plain": [
       "<Figure size 432x288 with 1 Axes>"
      ]
     },
     "metadata": {
      "needs_background": "light"
     },
     "output_type": "display_data"
    }
   ],
   "source": [
    "df['bodyfat'].hist()"
   ]
  },
  {
   "cell_type": "code",
   "execution_count": 9,
   "metadata": {},
   "outputs": [
    {
     "data": {
      "text/plain": [
       "<AxesSubplot:>"
      ]
     },
     "execution_count": 9,
     "metadata": {},
     "output_type": "execute_result"
    },
    {
     "data": {
      "image/png": "[encoded data removed]",
      "text/plain": [
       "<Figure size 432x288 with 1 Axes>"
      ]
     },
     "metadata": {
      "needs_background": "light"
     },
     "output_type": "display_data"
    }
   ],
   "source": [
    "df['Wrist'].hist()"
   ]
  },
  {
   "cell_type": "code",
   "execution_count": 10,
   "metadata": {},
   "outputs": [],
   "source": [
    "#Principio de regressão linear está em cima do erro. O método matemático para estimação dos parametros\n",
    "# é o método dos minímos quadrados (pois queremos errar o menos possível).\n",
    "#Parametro é um argumento, um número (que consigo chegar nele através de um método matemático)\n",
    "#Equação da Regressão Linear: Y = B0+B1x+B2x+Bnx\n",
    "#O bom da regressão linear é que podemos interpretar parâmetros, onde:\n",
    "# - B0: A cada incremento de uma unidade na sua variável x1 eu tenho um incremento estimado de B0\n",
    "#Quão bom o meu modelo é? Métricas de qualidade para modelos de Regressão\n",
    "# - R2: O quanto o meu modelo está expicado da variabilidade dos dados\n",
    "# - MSE: Erro médio ao quadrado (Ele não é interpretado)\n",
    "# - RMSE: Se deu 50, significa que em média o seu modelo está errando 50 para cima ou para baixo."
   ]
  },
  {
   "cell_type": "code",
   "execution_count": 11,
   "metadata": {},
   "outputs": [
    {
     "data": {
      "text/plain": [
       "<AxesSubplot:xlabel='Wrist', ylabel='bodyfat'>"
      ]
     },
     "execution_count": 11,
     "metadata": {},
     "output_type": "execute_result"
    },
    {
     "data": {
      "image/png": "[encoded data removed]",
      "text/plain": [
       "<Figure size 432x288 with 1 Axes>"
      ]
     },
     "metadata": {
      "needs_background": "light"
     },
     "output_type": "display_data"
    }
   ],
   "source": [
    "#Entender se os dados possuem uma relação Linear com o y a ser estimado\n",
    "sns.scatterplot(data=df, x='Wrist', y='bodyfat')"
   ]
  },
  {
   "cell_type": "code",
   "execution_count": 12,
   "metadata": {},
   "outputs": [],
   "source": [
    "#Olhando os dados acima, podemos ver que eles estão super espaçados, portanto, existe uma grande variabilidade.\n",
    "#Teremos um R² alto, pois o R² baixo seria quando os pontos estão muito próximos da reta."
   ]
  },
  {
   "cell_type": "code",
   "execution_count": 13,
   "metadata": {},
   "outputs": [],
   "source": [
    "#Realizando a Regressão Linear"
   ]
  },
  {
   "cell_type": "code",
   "execution_count": 14,
   "metadata": {},
   "outputs": [
    {
     "name": "stdout",
     "output_type": "stream",
     "text": [
      "                            OLS Regression Results                            \n",
      "==============================================================================\n",
      "Dep. Variable:                bodyfat   R-squared:                       0.120\n",
      "Model:                            OLS   Adj. R-squared:                  0.117\n",
      "Method:                 Least Squares   F-statistic:                     34.13\n",
      "Date:                Tue, 26 Apr 2022   Prob (F-statistic):           1.60e-08\n",
      "Time:                        15:36:36   Log-Likelihood:                -876.32\n",
      "No. Observations:                 252   AIC:                             1757.\n",
      "Df Residuals:                     250   BIC:                             1764.\n",
      "Df Model:                           1                                         \n",
      "Covariance Type:            nonrobust                                         \n",
      "==============================================================================\n",
      "                 coef    std err          t      P>|t|      [0.025      0.975]\n",
      "------------------------------------------------------------------------------\n",
      "Intercept    -37.4841      9.707     -3.861      0.000     -56.603     -18.366\n",
      "Wrist          3.1067      0.532      5.842      0.000       2.059       4.154\n",
      "==============================================================================\n",
      "Omnibus:                        2.284   Durbin-Watson:                   1.606\n",
      "Prob(Omnibus):                  0.319   Jarque-Bera (JB):                2.313\n",
      "Skew:                           0.228   Prob(JB):                        0.315\n",
      "Kurtosis:                       2.888   Cond. No.                         359.\n",
      "==============================================================================\n",
      "\n",
      "Notes:\n",
      "[1] Standard Errors assume that the covariance matrix of the errors is correctly specified.\n"
     ]
    }
   ],
   "source": [
    "formula= 'bodyfat~Wrist'\n",
    "model = smf.ols(formula=formula, data=df).fit()\n",
    "print(model.summary())"
   ]
  },
  {
   "cell_type": "code",
   "execution_count": 15,
   "metadata": {},
   "outputs": [],
   "source": [
    "# Como podemos identificar acima, o R²(R-squared) deu um valor extremamente baixo, ou seja, significa\n",
    "# que essa variável não é variável boa para o contexto.\n",
    "# Precisamos de criatividade para criar variávels que façam sentido para o contexto."
   ]
  },
  {
   "cell_type": "code",
   "execution_count": 16,
   "metadata": {},
   "outputs": [],
   "source": [
    "# Regressão Linear Múltipla\n",
    "# Na regressão linear existe o princípio da parcimônia que é fazer menos com mais, portanto, quanto menos\n",
    "# variáveis melhor e no modelo, temos o R2 ajustado que nos diz qual modelo é melhor, mas o melhor é usarmos\n",
    "# o RMSE para definir o melhor modelo."
   ]
  },
  {
   "cell_type": "code",
   "execution_count": 17,
   "metadata": {},
   "outputs": [],
   "source": [
    "# Criando um outro modelo com outra variável"
   ]
  },
  {
   "cell_type": "code",
   "execution_count": 18,
   "metadata": {},
   "outputs": [
    {
     "name": "stdout",
     "output_type": "stream",
     "text": [
      "                            OLS Regression Results                            \n",
      "==============================================================================\n",
      "Dep. Variable:                bodyfat   R-squared:                       0.669\n",
      "Model:                            OLS   Adj. R-squared:                  0.667\n",
      "Method:                 Least Squares   F-statistic:                     252.1\n",
      "Date:                Tue, 26 Apr 2022   Prob (F-statistic):           1.44e-60\n",
      "Time:                        15:36:36   Log-Likelihood:                -753.00\n",
      "No. Observations:                 252   AIC:                             1512.\n",
      "Df Residuals:                     249   BIC:                             1523.\n",
      "Df Model:                           2                                         \n",
      "Covariance Type:            nonrobust                                         \n",
      "==============================================================================\n",
      "                 coef    std err          t      P>|t|      [0.025      0.975]\n",
      "------------------------------------------------------------------------------\n",
      "Intercept    -34.4406      3.314    -10.391      0.000     -40.968     -27.913\n",
      "Abdomen        0.6953      0.039     17.913      0.000       0.619       0.772\n",
      "Biceps        -0.3335      0.139     -2.408      0.017      -0.606      -0.061\n",
      "==============================================================================\n",
      "Omnibus:                        0.497   Durbin-Watson:                   1.796\n",
      "Prob(Omnibus):                  0.780   Jarque-Bera (JB):                0.385\n",
      "Skew:                          -0.094   Prob(JB):                        0.825\n",
      "Kurtosis:                       3.031   Cond. No.                     1.07e+03\n",
      "==============================================================================\n",
      "\n",
      "Notes:\n",
      "[1] Standard Errors assume that the covariance matrix of the errors is correctly specified.\n",
      "[2] The condition number is large, 1.07e+03. This might indicate that there are\n",
      "strong multicollinearity or other numerical problems.\n"
     ]
    }
   ],
   "source": [
    "formula= 'bodyfat~Abdomen+Biceps'\n",
    "model = smf.ols(formula=formula, data=df).fit()\n",
    "print(model.summary())"
   ]
  },
  {
   "cell_type": "code",
   "execution_count": 19,
   "metadata": {},
   "outputs": [],
   "source": [
    "# Tivemos um R2 de 0,66. Significa que o meu modelo entende aproximadamente 67% da variabilidade dos meus dados.\n",
    "# Já no modelo anterior o modelo entendia apenas 12%.\n",
    "# Comparando os dois modelos olhando o R2 Ajustado, tinhamos no anterior 0,11 contra 0,66, ou seja,\n",
    "# o segundo modelo é melhor."
   ]
  },
  {
   "cell_type": "code",
   "execution_count": 20,
   "metadata": {},
   "outputs": [],
   "source": [
    "# Mas então quais variáveis são significativa? Devo colocar todas variáveis?\n",
    "# F: Teste Golbal, qro saber se alguma variável presta\n",
    "# T: Teste individual, vou testar parametro a parametro"
   ]
  },
  {
   "cell_type": "code",
   "execution_count": 21,
   "metadata": {},
   "outputs": [],
   "source": [
    "# Se algum parâmetro for zero, siginifica que aquela variável não é significcativa para o modelo.\n",
    "# O Teste T fica na coluna P> |t| e se for diferente de zero, significa se a variável é importante para o meu\n",
    "#modelo."
   ]
  },
  {
   "cell_type": "code",
   "execution_count": 22,
   "metadata": {},
   "outputs": [],
   "source": [
    "#Modelo usando todas as variáveis para observar todas as variáveis."
   ]
  },
  {
   "cell_type": "code",
   "execution_count": 23,
   "metadata": {},
   "outputs": [
    {
     "data": {
      "text/plain": [
       "Index(['Density', 'bodyfat', 'Age', 'Weight', 'Height', 'Neck', 'Chest',\n",
       "       'Abdomen', 'Hip', 'Thigh', 'Knee', 'Ankle', 'Biceps', 'Forearm',\n",
       "       'Wrist'],\n",
       "      dtype='object')"
      ]
     },
     "execution_count": 23,
     "metadata": {},
     "output_type": "execute_result"
    }
   ],
   "source": [
    "df.columns"
   ]
  },
  {
   "cell_type": "code",
   "execution_count": 24,
   "metadata": {},
   "outputs": [
    {
     "name": "stdout",
     "output_type": "stream",
     "text": [
      "                            OLS Regression Results                            \n",
      "==============================================================================\n",
      "Dep. Variable:                bodyfat   R-squared:                       0.749\n",
      "Model:                            OLS   Adj. R-squared:                  0.735\n",
      "Method:                 Least Squares   F-statistic:                     54.65\n",
      "Date:                Tue, 26 Apr 2022   Prob (F-statistic):           7.72e-64\n",
      "Time:                        15:36:36   Log-Likelihood:                -718.25\n",
      "No. Observations:                 252   AIC:                             1465.\n",
      "Df Residuals:                     238   BIC:                             1514.\n",
      "Df Model:                          13                                         \n",
      "Covariance Type:            nonrobust                                         \n",
      "==============================================================================\n",
      "                 coef    std err          t      P>|t|      [0.025      0.975]\n",
      "------------------------------------------------------------------------------\n",
      "Intercept    -18.1885     17.349     -1.048      0.296     -52.365      15.988\n",
      "Age            0.0621      0.032      1.919      0.056      -0.002       0.126\n",
      "Weight        -0.0884      0.054     -1.652      0.100      -0.194       0.017\n",
      "Height        -0.0696      0.096     -0.725      0.469      -0.259       0.120\n",
      "Neck          -0.4706      0.232     -2.024      0.044      -0.929      -0.013\n",
      "Chest         -0.0239      0.099     -0.241      0.810      -0.219       0.171\n",
      "Abdomen        0.9548      0.086     11.044      0.000       0.784       1.125\n",
      "Hip           -0.2075      0.146     -1.422      0.156      -0.495       0.080\n",
      "Thigh          0.2361      0.144      1.636      0.103      -0.048       0.520\n",
      "Knee           0.0153      0.242      0.063      0.950      -0.461       0.492\n",
      "Ankle          0.1740      0.221      0.786      0.433      -0.262       0.610\n",
      "Biceps         0.1816      0.171      1.061      0.290      -0.156       0.519\n",
      "Forearm        0.4520      0.199      2.270      0.024       0.060       0.844\n",
      "Wrist         -1.6206      0.535     -3.030      0.003      -2.674      -0.567\n",
      "==============================================================================\n",
      "Omnibus:                        4.404   Durbin-Watson:                   1.776\n",
      "Prob(Omnibus):                  0.111   Jarque-Bera (JB):                2.820\n",
      "Skew:                          -0.012   Prob(JB):                        0.244\n",
      "Kurtosis:                       2.482   Cond. No.                     1.78e+04\n",
      "==============================================================================\n",
      "\n",
      "Notes:\n",
      "[1] Standard Errors assume that the covariance matrix of the errors is correctly specified.\n",
      "[2] The condition number is large, 1.78e+04. This might indicate that there are\n",
      "strong multicollinearity or other numerical problems.\n"
     ]
    }
   ],
   "source": [
    "formula= 'bodyfat~Age+Weight+Height+Neck+Chest+Abdomen+Hip+Thigh+Knee+Ankle+Biceps+Forearm+Wrist'\n",
    "model = smf.ols(formula=formula, data=df).fit()\n",
    "print(model.summary())"
   ]
  },
  {
   "cell_type": "code",
   "execution_count": 25,
   "metadata": {},
   "outputs": [],
   "source": [
    "#Para eu escrever a minha função, preciso excluir as variáveis não significativas.\n",
    "#Quanto quanto maior o Pvalor (P>|t|) mais inutil é a minha variável\n",
    "#No caso acima a variável mais inutil seria a Chest"
   ]
  },
  {
   "cell_type": "code",
   "execution_count": 26,
   "metadata": {},
   "outputs": [],
   "source": [
    "#Portanto para gerarmos a equação, precisamos tirar o mais inutil e rodar a função novamente.\n",
    "#E então excluo o parametro mais inútil e rodo novamente e sigo fazendo esse looping"
   ]
  },
  {
   "cell_type": "code",
   "execution_count": 27,
   "metadata": {},
   "outputs": [],
   "source": [
    "# Precisamos escolher algum método para seleção de variáveis:\n",
    "# Forward: A festa começa sozinha, o segurança chega na hora e olha quem é o mais legal e coloca para dentro,\n",
    "# escolhe o segundo mais legal e coloca para dentro.\n",
    "\n",
    "# Escolhe isso baseado no Pvalor"
   ]
  },
  {
   "cell_type": "code",
   "execution_count": 28,
   "metadata": {},
   "outputs": [],
   "source": [
    "# Backward: a festa começa com todo mundo, o segurança vai eliminando os problemáticos na festa."
   ]
  },
  {
   "cell_type": "code",
   "execution_count": 29,
   "metadata": {},
   "outputs": [],
   "source": [
    "# Stepwise: Começa sem nenhuma variável, vou adicionando e vendo se estão indo bem, se elas \"tretarem\", eu vou lá e tiro."
   ]
  },
  {
   "cell_type": "code",
   "execution_count": 30,
   "metadata": {},
   "outputs": [],
   "source": [
    "# Poderia adotar outra estratégia, onde eu olharia os erros (AIC), vendo se aquela variável melhora ou piora\n",
    "# o meu erro."
   ]
  },
  {
   "cell_type": "code",
   "execution_count": 31,
   "metadata": {},
   "outputs": [],
   "source": [
    "#Fazendo um modelo com todas variáveis, menos a density"
   ]
  },
  {
   "cell_type": "code",
   "execution_count": 32,
   "metadata": {},
   "outputs": [],
   "source": [
    "df = df.drop(['Density'], axis=1)"
   ]
  },
  {
   "cell_type": "code",
   "execution_count": 33,
   "metadata": {},
   "outputs": [],
   "source": [
    "df_x=df.drop(['bodyfat'], axis=1)"
   ]
  },
  {
   "cell_type": "code",
   "execution_count": 34,
   "metadata": {},
   "outputs": [],
   "source": [
    "var_independete=df_x.columns"
   ]
  },
  {
   "cell_type": "code",
   "execution_count": 35,
   "metadata": {},
   "outputs": [],
   "source": [
    "var_dependente='bodyfat'"
   ]
  },
  {
   "cell_type": "code",
   "execution_count": 36,
   "metadata": {},
   "outputs": [],
   "source": [
    "#Criando x e y\n",
    "x = df[var_independete]\n",
    "y = df[var_dependente]"
   ]
  },
  {
   "cell_type": "code",
   "execution_count": 37,
   "metadata": {},
   "outputs": [],
   "source": [
    "#Adicionando intercepto\n",
    "x = sm.add_constant(x)"
   ]
  },
  {
   "cell_type": "code",
   "execution_count": 38,
   "metadata": {},
   "outputs": [
    {
     "data": {
      "text/html": [
       "<div>\n",
       "<style scoped>\n",
       "    .dataframe tbody tr th:only-of-type {\n",
       "        vertical-align: middle;\n",
       "    }\n",
       "\n",
       "    .dataframe tbody tr th {\n",
       "        vertical-align: top;\n",
       "    }\n",
       "\n",
       "    .dataframe thead th {\n",
       "        text-align: right;\n",
       "    }\n",
       "</style>\n",
       "<table border=\"1\" class=\"dataframe\">\n",
       "  <thead>\n",
       "    <tr style=\"text-align: right;\">\n",
       "      <th></th>\n",
       "      <th>const</th>\n",
       "      <th>Age</th>\n",
       "      <th>Weight</th>\n",
       "      <th>Height</th>\n",
       "      <th>Neck</th>\n",
       "      <th>Chest</th>\n",
       "      <th>Abdomen</th>\n",
       "      <th>Hip</th>\n",
       "      <th>Thigh</th>\n",
       "      <th>Knee</th>\n",
       "      <th>Ankle</th>\n",
       "      <th>Biceps</th>\n",
       "      <th>Forearm</th>\n",
       "      <th>Wrist</th>\n",
       "    </tr>\n",
       "  </thead>\n",
       "  <tbody>\n",
       "    <tr>\n",
       "      <th>0</th>\n",
       "      <td>1.0</td>\n",
       "      <td>23</td>\n",
       "      <td>154.25</td>\n",
       "      <td>67.75</td>\n",
       "      <td>36.2</td>\n",
       "      <td>93.1</td>\n",
       "      <td>85.2</td>\n",
       "      <td>94.5</td>\n",
       "      <td>59.0</td>\n",
       "      <td>37.3</td>\n",
       "      <td>21.9</td>\n",
       "      <td>32.0</td>\n",
       "      <td>27.4</td>\n",
       "      <td>17.1</td>\n",
       "    </tr>\n",
       "    <tr>\n",
       "      <th>1</th>\n",
       "      <td>1.0</td>\n",
       "      <td>22</td>\n",
       "      <td>173.25</td>\n",
       "      <td>72.25</td>\n",
       "      <td>38.5</td>\n",
       "      <td>93.6</td>\n",
       "      <td>83.0</td>\n",
       "      <td>98.7</td>\n",
       "      <td>58.7</td>\n",
       "      <td>37.3</td>\n",
       "      <td>23.4</td>\n",
       "      <td>30.5</td>\n",
       "      <td>28.9</td>\n",
       "      <td>18.2</td>\n",
       "    </tr>\n",
       "    <tr>\n",
       "      <th>2</th>\n",
       "      <td>1.0</td>\n",
       "      <td>22</td>\n",
       "      <td>154.00</td>\n",
       "      <td>66.25</td>\n",
       "      <td>34.0</td>\n",
       "      <td>95.8</td>\n",
       "      <td>87.9</td>\n",
       "      <td>99.2</td>\n",
       "      <td>59.6</td>\n",
       "      <td>38.9</td>\n",
       "      <td>24.0</td>\n",
       "      <td>28.8</td>\n",
       "      <td>25.2</td>\n",
       "      <td>16.6</td>\n",
       "    </tr>\n",
       "    <tr>\n",
       "      <th>3</th>\n",
       "      <td>1.0</td>\n",
       "      <td>26</td>\n",
       "      <td>184.75</td>\n",
       "      <td>72.25</td>\n",
       "      <td>37.4</td>\n",
       "      <td>101.8</td>\n",
       "      <td>86.4</td>\n",
       "      <td>101.2</td>\n",
       "      <td>60.1</td>\n",
       "      <td>37.3</td>\n",
       "      <td>22.8</td>\n",
       "      <td>32.4</td>\n",
       "      <td>29.4</td>\n",
       "      <td>18.2</td>\n",
       "    </tr>\n",
       "    <tr>\n",
       "      <th>4</th>\n",
       "      <td>1.0</td>\n",
       "      <td>24</td>\n",
       "      <td>184.25</td>\n",
       "      <td>71.25</td>\n",
       "      <td>34.4</td>\n",
       "      <td>97.3</td>\n",
       "      <td>100.0</td>\n",
       "      <td>101.9</td>\n",
       "      <td>63.2</td>\n",
       "      <td>42.2</td>\n",
       "      <td>24.0</td>\n",
       "      <td>32.2</td>\n",
       "      <td>27.7</td>\n",
       "      <td>17.7</td>\n",
       "    </tr>\n",
       "    <tr>\n",
       "      <th>...</th>\n",
       "      <td>...</td>\n",
       "      <td>...</td>\n",
       "      <td>...</td>\n",
       "      <td>...</td>\n",
       "      <td>...</td>\n",
       "      <td>...</td>\n",
       "      <td>...</td>\n",
       "      <td>...</td>\n",
       "      <td>...</td>\n",
       "      <td>...</td>\n",
       "      <td>...</td>\n",
       "      <td>...</td>\n",
       "      <td>...</td>\n",
       "      <td>...</td>\n",
       "    </tr>\n",
       "    <tr>\n",
       "      <th>247</th>\n",
       "      <td>1.0</td>\n",
       "      <td>70</td>\n",
       "      <td>134.25</td>\n",
       "      <td>67.00</td>\n",
       "      <td>34.9</td>\n",
       "      <td>89.2</td>\n",
       "      <td>83.6</td>\n",
       "      <td>88.8</td>\n",
       "      <td>49.6</td>\n",
       "      <td>34.8</td>\n",
       "      <td>21.5</td>\n",
       "      <td>25.6</td>\n",
       "      <td>25.7</td>\n",
       "      <td>18.5</td>\n",
       "    </tr>\n",
       "    <tr>\n",
       "      <th>248</th>\n",
       "      <td>1.0</td>\n",
       "      <td>72</td>\n",
       "      <td>201.00</td>\n",
       "      <td>69.75</td>\n",
       "      <td>40.9</td>\n",
       "      <td>108.5</td>\n",
       "      <td>105.0</td>\n",
       "      <td>104.5</td>\n",
       "      <td>59.6</td>\n",
       "      <td>40.8</td>\n",
       "      <td>23.2</td>\n",
       "      <td>35.2</td>\n",
       "      <td>28.6</td>\n",
       "      <td>20.1</td>\n",
       "    </tr>\n",
       "    <tr>\n",
       "      <th>249</th>\n",
       "      <td>1.0</td>\n",
       "      <td>72</td>\n",
       "      <td>186.75</td>\n",
       "      <td>66.00</td>\n",
       "      <td>38.9</td>\n",
       "      <td>111.1</td>\n",
       "      <td>111.5</td>\n",
       "      <td>101.7</td>\n",
       "      <td>60.3</td>\n",
       "      <td>37.3</td>\n",
       "      <td>21.5</td>\n",
       "      <td>31.3</td>\n",
       "      <td>27.2</td>\n",
       "      <td>18.0</td>\n",
       "    </tr>\n",
       "    <tr>\n",
       "      <th>250</th>\n",
       "      <td>1.0</td>\n",
       "      <td>72</td>\n",
       "      <td>190.75</td>\n",
       "      <td>70.50</td>\n",
       "      <td>38.9</td>\n",
       "      <td>108.3</td>\n",
       "      <td>101.3</td>\n",
       "      <td>97.8</td>\n",
       "      <td>56.0</td>\n",
       "      <td>41.6</td>\n",
       "      <td>22.7</td>\n",
       "      <td>30.5</td>\n",
       "      <td>29.4</td>\n",
       "      <td>19.8</td>\n",
       "    </tr>\n",
       "    <tr>\n",
       "      <th>251</th>\n",
       "      <td>1.0</td>\n",
       "      <td>74</td>\n",
       "      <td>207.50</td>\n",
       "      <td>70.00</td>\n",
       "      <td>40.8</td>\n",
       "      <td>112.4</td>\n",
       "      <td>108.5</td>\n",
       "      <td>107.1</td>\n",
       "      <td>59.3</td>\n",
       "      <td>42.2</td>\n",
       "      <td>24.6</td>\n",
       "      <td>33.7</td>\n",
       "      <td>30.0</td>\n",
       "      <td>20.9</td>\n",
       "    </tr>\n",
       "  </tbody>\n",
       "</table>\n",
       "<p>252 rows × 14 columns</p>\n",
       "</div>"
      ],
      "text/plain": [
       "     const  Age  Weight  Height  Neck  Chest  Abdomen    Hip  Thigh  Knee  \\\n",
       "0      1.0   23  154.25   67.75  36.2   93.1     85.2   94.5   59.0  37.3   \n",
       "1      1.0   22  173.25   72.25  38.5   93.6     83.0   98.7   58.7  37.3   \n",
       "2      1.0   22  154.00   66.25  34.0   95.8     87.9   99.2   59.6  38.9   \n",
       "3      1.0   26  184.75   72.25  37.4  101.8     86.4  101.2   60.1  37.3   \n",
       "4      1.0   24  184.25   71.25  34.4   97.3    100.0  101.9   63.2  42.2   \n",
       "..     ...  ...     ...     ...   ...    ...      ...    ...    ...   ...   \n",
       "247    1.0   70  134.25   67.00  34.9   89.2     83.6   88.8   49.6  34.8   \n",
       "248    1.0   72  201.00   69.75  40.9  108.5    105.0  104.5   59.6  40.8   \n",
       "249    1.0   72  186.75   66.00  38.9  111.1    111.5  101.7   60.3  37.3   \n",
       "250    1.0   72  190.75   70.50  38.9  108.3    101.3   97.8   56.0  41.6   \n",
       "251    1.0   74  207.50   70.00  40.8  112.4    108.5  107.1   59.3  42.2   \n",
       "\n",
       "     Ankle  Biceps  Forearm  Wrist  \n",
       "0     21.9    32.0     27.4   17.1  \n",
       "1     23.4    30.5     28.9   18.2  \n",
       "2     24.0    28.8     25.2   16.6  \n",
       "3     22.8    32.4     29.4   18.2  \n",
       "4     24.0    32.2     27.7   17.7  \n",
       "..     ...     ...      ...    ...  \n",
       "247   21.5    25.6     25.7   18.5  \n",
       "248   23.2    35.2     28.6   20.1  \n",
       "249   21.5    31.3     27.2   18.0  \n",
       "250   22.7    30.5     29.4   19.8  \n",
       "251   24.6    33.7     30.0   20.9  \n",
       "\n",
       "[252 rows x 14 columns]"
      ]
     },
     "execution_count": 38,
     "metadata": {},
     "output_type": "execute_result"
    }
   ],
   "source": [
    "x"
   ]
  },
  {
   "cell_type": "code",
   "execution_count": 39,
   "metadata": {},
   "outputs": [
    {
     "data": {
      "text/html": [
       "<table class=\"simpletable\">\n",
       "<caption>OLS Regression Results</caption>\n",
       "<tr>\n",
       "  <th>Dep. Variable:</th>         <td>bodyfat</td>     <th>  R-squared:         </th> <td>   0.749</td>\n",
       "</tr>\n",
       "<tr>\n",
       "  <th>Model:</th>                   <td>OLS</td>       <th>  Adj. R-squared:    </th> <td>   0.735</td>\n",
       "</tr>\n",
       "<tr>\n",
       "  <th>Method:</th>             <td>Least Squares</td>  <th>  F-statistic:       </th> <td>   54.65</td>\n",
       "</tr>\n",
       "<tr>\n",
       "  <th>Date:</th>             <td>Tue, 26 Apr 2022</td> <th>  Prob (F-statistic):</th> <td>7.72e-64</td>\n",
       "</tr>\n",
       "<tr>\n",
       "  <th>Time:</th>                 <td>15:36:37</td>     <th>  Log-Likelihood:    </th> <td> -718.25</td>\n",
       "</tr>\n",
       "<tr>\n",
       "  <th>No. Observations:</th>      <td>   252</td>      <th>  AIC:               </th> <td>   1465.</td>\n",
       "</tr>\n",
       "<tr>\n",
       "  <th>Df Residuals:</th>          <td>   238</td>      <th>  BIC:               </th> <td>   1514.</td>\n",
       "</tr>\n",
       "<tr>\n",
       "  <th>Df Model:</th>              <td>    13</td>      <th>                     </th>     <td> </td>   \n",
       "</tr>\n",
       "<tr>\n",
       "  <th>Covariance Type:</th>      <td>nonrobust</td>    <th>                     </th>     <td> </td>   \n",
       "</tr>\n",
       "</table>\n",
       "<table class=\"simpletable\">\n",
       "<tr>\n",
       "     <td></td>        <th>coef</th>     <th>std err</th>      <th>t</th>      <th>P>|t|</th>  <th>[0.025</th>    <th>0.975]</th>  \n",
       "</tr>\n",
       "<tr>\n",
       "  <th>const</th>   <td>  -18.1885</td> <td>   17.349</td> <td>   -1.048</td> <td> 0.296</td> <td>  -52.365</td> <td>   15.988</td>\n",
       "</tr>\n",
       "<tr>\n",
       "  <th>Age</th>     <td>    0.0621</td> <td>    0.032</td> <td>    1.919</td> <td> 0.056</td> <td>   -0.002</td> <td>    0.126</td>\n",
       "</tr>\n",
       "<tr>\n",
       "  <th>Weight</th>  <td>   -0.0884</td> <td>    0.054</td> <td>   -1.652</td> <td> 0.100</td> <td>   -0.194</td> <td>    0.017</td>\n",
       "</tr>\n",
       "<tr>\n",
       "  <th>Height</th>  <td>   -0.0696</td> <td>    0.096</td> <td>   -0.725</td> <td> 0.469</td> <td>   -0.259</td> <td>    0.120</td>\n",
       "</tr>\n",
       "<tr>\n",
       "  <th>Neck</th>    <td>   -0.4706</td> <td>    0.232</td> <td>   -2.024</td> <td> 0.044</td> <td>   -0.929</td> <td>   -0.013</td>\n",
       "</tr>\n",
       "<tr>\n",
       "  <th>Chest</th>   <td>   -0.0239</td> <td>    0.099</td> <td>   -0.241</td> <td> 0.810</td> <td>   -0.219</td> <td>    0.171</td>\n",
       "</tr>\n",
       "<tr>\n",
       "  <th>Abdomen</th> <td>    0.9548</td> <td>    0.086</td> <td>   11.044</td> <td> 0.000</td> <td>    0.784</td> <td>    1.125</td>\n",
       "</tr>\n",
       "<tr>\n",
       "  <th>Hip</th>     <td>   -0.2075</td> <td>    0.146</td> <td>   -1.422</td> <td> 0.156</td> <td>   -0.495</td> <td>    0.080</td>\n",
       "</tr>\n",
       "<tr>\n",
       "  <th>Thigh</th>   <td>    0.2361</td> <td>    0.144</td> <td>    1.636</td> <td> 0.103</td> <td>   -0.048</td> <td>    0.520</td>\n",
       "</tr>\n",
       "<tr>\n",
       "  <th>Knee</th>    <td>    0.0153</td> <td>    0.242</td> <td>    0.063</td> <td> 0.950</td> <td>   -0.461</td> <td>    0.492</td>\n",
       "</tr>\n",
       "<tr>\n",
       "  <th>Ankle</th>   <td>    0.1740</td> <td>    0.221</td> <td>    0.786</td> <td> 0.433</td> <td>   -0.262</td> <td>    0.610</td>\n",
       "</tr>\n",
       "<tr>\n",
       "  <th>Biceps</th>  <td>    0.1816</td> <td>    0.171</td> <td>    1.061</td> <td> 0.290</td> <td>   -0.156</td> <td>    0.519</td>\n",
       "</tr>\n",
       "<tr>\n",
       "  <th>Forearm</th> <td>    0.4520</td> <td>    0.199</td> <td>    2.270</td> <td> 0.024</td> <td>    0.060</td> <td>    0.844</td>\n",
       "</tr>\n",
       "<tr>\n",
       "  <th>Wrist</th>   <td>   -1.6206</td> <td>    0.535</td> <td>   -3.030</td> <td> 0.003</td> <td>   -2.674</td> <td>   -0.567</td>\n",
       "</tr>\n",
       "</table>\n",
       "<table class=\"simpletable\">\n",
       "<tr>\n",
       "  <th>Omnibus:</th>       <td> 4.404</td> <th>  Durbin-Watson:     </th> <td>   1.776</td>\n",
       "</tr>\n",
       "<tr>\n",
       "  <th>Prob(Omnibus):</th> <td> 0.111</td> <th>  Jarque-Bera (JB):  </th> <td>   2.820</td>\n",
       "</tr>\n",
       "<tr>\n",
       "  <th>Skew:</th>          <td>-0.012</td> <th>  Prob(JB):          </th> <td>   0.244</td>\n",
       "</tr>\n",
       "<tr>\n",
       "  <th>Kurtosis:</th>      <td> 2.482</td> <th>  Cond. No.          </th> <td>1.78e+04</td>\n",
       "</tr>\n",
       "</table><br/><br/>Notes:<br/>[1] Standard Errors assume that the covariance matrix of the errors is correctly specified.<br/>[2] The condition number is large, 1.78e+04. This might indicate that there are<br/>strong multicollinearity or other numerical problems."
      ],
      "text/plain": [
       "<class 'statsmodels.iolib.summary.Summary'>\n",
       "\"\"\"\n",
       "                            OLS Regression Results                            \n",
       "==============================================================================\n",
       "Dep. Variable:                bodyfat   R-squared:                       0.749\n",
       "Model:                            OLS   Adj. R-squared:                  0.735\n",
       "Method:                 Least Squares   F-statistic:                     54.65\n",
       "Date:                Tue, 26 Apr 2022   Prob (F-statistic):           7.72e-64\n",
       "Time:                        15:36:37   Log-Likelihood:                -718.25\n",
       "No. Observations:                 252   AIC:                             1465.\n",
       "Df Residuals:                     238   BIC:                             1514.\n",
       "Df Model:                          13                                         \n",
       "Covariance Type:            nonrobust                                         \n",
       "==============================================================================\n",
       "                 coef    std err          t      P>|t|      [0.025      0.975]\n",
       "------------------------------------------------------------------------------\n",
       "const        -18.1885     17.349     -1.048      0.296     -52.365      15.988\n",
       "Age            0.0621      0.032      1.919      0.056      -0.002       0.126\n",
       "Weight        -0.0884      0.054     -1.652      0.100      -0.194       0.017\n",
       "Height        -0.0696      0.096     -0.725      0.469      -0.259       0.120\n",
       "Neck          -0.4706      0.232     -2.024      0.044      -0.929      -0.013\n",
       "Chest         -0.0239      0.099     -0.241      0.810      -0.219       0.171\n",
       "Abdomen        0.9548      0.086     11.044      0.000       0.784       1.125\n",
       "Hip           -0.2075      0.146     -1.422      0.156      -0.495       0.080\n",
       "Thigh          0.2361      0.144      1.636      0.103      -0.048       0.520\n",
       "Knee           0.0153      0.242      0.063      0.950      -0.461       0.492\n",
       "Ankle          0.1740      0.221      0.786      0.433      -0.262       0.610\n",
       "Biceps         0.1816      0.171      1.061      0.290      -0.156       0.519\n",
       "Forearm        0.4520      0.199      2.270      0.024       0.060       0.844\n",
       "Wrist         -1.6206      0.535     -3.030      0.003      -2.674      -0.567\n",
       "==============================================================================\n",
       "Omnibus:                        4.404   Durbin-Watson:                   1.776\n",
       "Prob(Omnibus):                  0.111   Jarque-Bera (JB):                2.820\n",
       "Skew:                          -0.012   Prob(JB):                        0.244\n",
       "Kurtosis:                       2.482   Cond. No.                     1.78e+04\n",
       "==============================================================================\n",
       "\n",
       "Notes:\n",
       "[1] Standard Errors assume that the covariance matrix of the errors is correctly specified.\n",
       "[2] The condition number is large, 1.78e+04. This might indicate that there are\n",
       "strong multicollinearity or other numerical problems.\n",
       "\"\"\""
      ]
     },
     "execution_count": 39,
     "metadata": {},
     "output_type": "execute_result"
    }
   ],
   "source": [
    "#Fazendo modelo com todas variáveis, exceto density\n",
    "model_sm = sm.OLS(y,x).fit()\n",
    "model_sm.summary()"
   ]
  },
  {
   "cell_type": "code",
   "execution_count": 40,
   "metadata": {},
   "outputs": [],
   "source": [
    "#Estratégia para adicionar as melhores variáveis:\n",
    "#Métodos de seleção de variáveis"
   ]
  },
  {
   "cell_type": "code",
   "execution_count": 42,
   "metadata": {},
   "outputs": [],
   "source": [
    "#Forward\n",
    "# Nao eh nativo, entao peguei uma def pronta\n",
    "# metodo forward, que tomar decisao baseado no adjusted R-squared\n",
    "\n",
    "def forward_selected(data, response):\n",
    "    \"\"\" Forward stepwise regression algorithm, the source code is from https://planspace.org/20150423-forward_selection_with_statsmodels/\n",
    "         Use Adjusted R-squared to judge whether the newly added parameters improve the statistical significance in the regression\n",
    "    Linear model designed by forward selection.\n",
    "    Parameters:\n",
    "    -----------\n",
    "    data : pandas DataFrame with all possible predictors and response\n",
    "    response: string, name of response column in data\n",
    "    Returns:\n",
    "    --------\n",
    "    model: an \"optimal\" fitted statsmodels linear model\n",
    "           with an intercept\n",
    "           selected by forward selection\n",
    "           evaluated by adjusted R-squared\n",
    "    \"\"\"\n",
    "    remaining = set(data.columns)\n",
    "    remaining.remove(response)\n",
    "    selected = []\n",
    "    current_score, best_new_score = 0.0, 0.0\n",
    "    while remaining and current_score == best_new_score:\n",
    "        scores_with_candidates = []\n",
    "        for candidate in remaining:\n",
    "            formula = \"{} ~ {} + 1\".format(response,\n",
    "                                           ' + '.join(selected + [candidate]))\n",
    "            score = smf.ols(formula, data).fit().rsquared_adj\n",
    "            scores_with_candidates.append((score, candidate))\n",
    "        scores_with_candidates.sort()\n",
    "        best_new_score, best_candidate = scores_with_candidates.pop()\n",
    "        if current_score < best_new_score:\n",
    "            remaining.remove(best_candidate)\n",
    "            selected.append(best_candidate)\n",
    "            current_score = best_new_score\n",
    "    formula = \"{} ~ {} + 1\".format(response,\n",
    "                                   ' + '.join(selected))\n",
    "    model = smf.ols(formula, data).fit()\n",
    " \n",
    "    return model"
   ]
  },
  {
   "cell_type": "code",
   "execution_count": 46,
   "metadata": {},
   "outputs": [
    {
     "name": "stdout",
     "output_type": "stream",
     "text": [
      "Equacao bodyfat ~ Abdomen + Weight + Wrist + Forearm + Neck + Age + Thigh + Hip + Biceps + 1\n",
      "Parametros Intercept   -23.304992\n",
      "Abdomen       0.949261\n",
      "Weight       -0.098425\n",
      "Wrist        -1.542084\n",
      "Forearm       0.451496\n",
      "Neck         -0.493295\n",
      "Age           0.063483\n",
      "Thigh         0.265379\n",
      "Hip          -0.182871\n",
      "Biceps        0.178890\n",
      "dtype: float64\n",
      "R2 0.7383503647269756\n"
     ]
    }
   ],
   "source": [
    "#chamando a funcao para nosso problema\n",
    "\n",
    "def main():\n",
    "         #Set the target variable\n",
    "    model = forward_selected(df, 'bodyfat')\n",
    " \n",
    "         #Print out the final regression model\n",
    "    print(\"Equacao\", model.model.formula)\n",
    "    \n",
    "    \n",
    "    print(\"Parametros\", model.params)\n",
    "    \n",
    "    print(\"R2\", model.rsquared_adj)\n",
    "    \n",
    "if __name__ == '__main__':\n",
    "    main()"
   ]
  },
  {
   "cell_type": "code",
   "execution_count": 47,
   "metadata": {},
   "outputs": [
    {
     "name": "stdout",
     "output_type": "stream",
     "text": [
      "                            OLS Regression Results                            \n",
      "==============================================================================\n",
      "Dep. Variable:                bodyfat   R-squared:                       0.748\n",
      "Model:                            OLS   Adj. R-squared:                  0.738\n",
      "Method:                 Least Squares   F-statistic:                     79.70\n",
      "Date:                Tue, 26 Apr 2022   Prob (F-statistic):           2.75e-67\n",
      "Time:                        15:47:38   Log-Likelihood:                -718.91\n",
      "No. Observations:                 252   AIC:                             1458.\n",
      "Df Residuals:                     242   BIC:                             1493.\n",
      "Df Model:                           9                                         \n",
      "Covariance Type:            nonrobust                                         \n",
      "==============================================================================\n",
      "                 coef    std err          t      P>|t|      [0.025      0.975]\n",
      "------------------------------------------------------------------------------\n",
      "Intercept    -23.3050     11.727     -1.987      0.048     -46.404      -0.206\n",
      "Abdomen        0.9493      0.072     13.177      0.000       0.807       1.091\n",
      "Weight        -0.0984      0.041     -2.418      0.016      -0.179      -0.018\n",
      "Wrist         -1.5421      0.509     -3.028      0.003      -2.545      -0.539\n",
      "Forearm        0.4515      0.196      2.306      0.022       0.066       0.837\n",
      "Neck          -0.4933      0.226     -2.183      0.030      -0.938      -0.048\n",
      "Age            0.0635      0.031      2.058      0.041       0.003       0.124\n",
      "Thigh          0.2654      0.134      1.986      0.048       0.002       0.529\n",
      "Hip           -0.1829      0.139     -1.316      0.189      -0.457       0.091\n",
      "Biceps         0.1789      0.168      1.063      0.289      -0.153       0.510\n",
      "==============================================================================\n",
      "Omnibus:                        4.026   Durbin-Watson:                   1.795\n",
      "Prob(Omnibus):                  0.134   Jarque-Bera (JB):                2.653\n",
      "Skew:                           0.010   Prob(JB):                        0.265\n",
      "Kurtosis:                       2.498   Cond. No.                     1.07e+04\n",
      "==============================================================================\n",
      "\n",
      "Notes:\n",
      "[1] Standard Errors assume that the covariance matrix of the errors is correctly specified.\n",
      "[2] The condition number is large, 1.07e+04. This might indicate that there are\n",
      "strong multicollinearity or other numerical problems.\n"
     ]
    }
   ],
   "source": [
    "# para eu ver o summary completo\n",
    "formula = 'bodyfat ~ Abdomen + Weight + Wrist + Forearm + Neck + Age + Thigh + Hip + Biceps + 1'\n",
    "modelo = smf.ols(formula=formula, data=df).fit() \n",
    "print(modelo.summary())"
   ]
  },
  {
   "cell_type": "code",
   "execution_count": 48,
   "metadata": {},
   "outputs": [],
   "source": [
    "#Stepwise\n",
    "# outra funcao (agora stepwise), que agora seleciona pelo p-valor\n",
    "def stepwise_selection(X, y, \n",
    "                           initial_list=[], \n",
    "                           threshold_in=0.01, \n",
    "                           threshold_out = 0.05, \n",
    "                           verbose=True):\n",
    "        \"\"\" Perform a forward-backward feature selection \n",
    "        based on p-value from statsmodels.api.OLS\n",
    "        Arguments:\n",
    "            X - pandas.DataFrame with candidate features\n",
    "            y - list-like with the target\n",
    "            initial_list - list of features to start with (column names of X)\n",
    "            threshold_in - include a feature if its p-value < threshold_in\n",
    "            threshold_out - exclude a feature if its p-value > threshold_out\n",
    "            verbose - whether to print the sequence of inclusions and exclusions\n",
    "        Returns: list of selected features \n",
    "        Always set threshold_in < threshold_out to avoid infinite looping.\n",
    "        See https://en.wikipedia.org/wiki/Stepwise_regression for the details\n",
    "        \"\"\"\n",
    "        included = list(initial_list)\n",
    "        while True:\n",
    "            changed=False\n",
    "            # forward step\n",
    "            excluded = list(set(X.columns)-set(included))\n",
    "            new_pval = pd.Series(index=excluded)\n",
    "            for new_column in excluded:\n",
    "                model = sm.OLS(y, sm.add_constant(pd.DataFrame(X[included+[new_column]]))).fit()\n",
    "                new_pval[new_column] = model.pvalues[new_column]\n",
    "            best_pval = new_pval.min()\n",
    "            if best_pval < threshold_in:\n",
    "                best_feature = new_pval.idxmin()\n",
    "                included.append(best_feature)\n",
    "                changed=True\n",
    "                if verbose:\n",
    "                    print('Add  {:30} with p-value {:.6}'.format(best_feature, best_pval))\n",
    "\n",
    "            # backward step\n",
    "            model = sm.OLS(y, sm.add_constant(pd.DataFrame(X[included]))).fit()\n",
    "            # use all coefs except intercept\n",
    "            pvalues = model.pvalues.iloc[1:]\n",
    "            worst_pval = pvalues.max() # null if pvalues is empty\n",
    "            if worst_pval > threshold_out:\n",
    "                changed=True\n",
    "                worst_feature = pvalues.idxmax()\n",
    "                included.remove(worst_feature)\n",
    "                if verbose:\n",
    "                    print('Drop {:30} with p-value {:.6}'.format(worst_feature, worst_pval))\n",
    "            if not changed:\n",
    "                break\n",
    "        return included"
   ]
  },
  {
   "cell_type": "code",
   "execution_count": 49,
   "metadata": {},
   "outputs": [
    {
     "name": "stderr",
     "output_type": "stream",
     "text": [
      "C:\\Users\\2104734084\\AppData\\Local\\Temp\\ipykernel_22032\\2829660767.py:26: FutureWarning: The default dtype for empty Series will be 'object' instead of 'float64' in a future version. Specify a dtype explicitly to silence this warning.\n",
      "  new_pval = pd.Series(index=excluded)\n"
     ]
    },
    {
     "name": "stdout",
     "output_type": "stream",
     "text": [
      "Add  const                          with p-value 6.17665e-102\n",
      "Add  Abdomen                        with p-value 9.09007e-61\n",
      "Add  Weight                         with p-value 1.20706e-11\n"
     ]
    },
    {
     "name": "stderr",
     "output_type": "stream",
     "text": [
      "C:\\Users\\2104734084\\AppData\\Local\\Temp\\ipykernel_22032\\2829660767.py:26: FutureWarning: The default dtype for empty Series will be 'object' instead of 'float64' in a future version. Specify a dtype explicitly to silence this warning.\n",
      "  new_pval = pd.Series(index=excluded)\n",
      "C:\\Users\\2104734084\\AppData\\Local\\Temp\\ipykernel_22032\\2829660767.py:26: FutureWarning: The default dtype for empty Series will be 'object' instead of 'float64' in a future version. Specify a dtype explicitly to silence this warning.\n",
      "  new_pval = pd.Series(index=excluded)\n",
      "C:\\Users\\2104734084\\AppData\\Local\\Temp\\ipykernel_22032\\2829660767.py:26: FutureWarning: The default dtype for empty Series will be 'object' instead of 'float64' in a future version. Specify a dtype explicitly to silence this warning.\n",
      "  new_pval = pd.Series(index=excluded)\n"
     ]
    },
    {
     "name": "stdout",
     "output_type": "stream",
     "text": [
      "Add  Wrist                          with p-value 0.00468238\n",
      "Add  Forearm                        with p-value 0.00979016\n",
      "resulting features:\n",
      "['const', 'Abdomen', 'Weight', 'Wrist', 'Forearm']\n"
     ]
    },
    {
     "name": "stderr",
     "output_type": "stream",
     "text": [
      "C:\\Users\\2104734084\\AppData\\Local\\Temp\\ipykernel_22032\\2829660767.py:26: FutureWarning: The default dtype for empty Series will be 'object' instead of 'float64' in a future version. Specify a dtype explicitly to silence this warning.\n",
      "  new_pval = pd.Series(index=excluded)\n",
      "C:\\Users\\2104734084\\AppData\\Local\\Temp\\ipykernel_22032\\2829660767.py:26: FutureWarning: The default dtype for empty Series will be 'object' instead of 'float64' in a future version. Specify a dtype explicitly to silence this warning.\n",
      "  new_pval = pd.Series(index=excluded)\n"
     ]
    }
   ],
   "source": [
    "# chamando para o nosso problema\n",
    "result = stepwise_selection(x, y)\n",
    "\n",
    "print('resulting features:')\n",
    "print(result)"
   ]
  },
  {
   "cell_type": "code",
   "execution_count": 51,
   "metadata": {},
   "outputs": [
    {
     "name": "stdout",
     "output_type": "stream",
     "text": [
      "                            OLS Regression Results                            \n",
      "==============================================================================\n",
      "Dep. Variable:                bodyfat   R-squared:                       0.735\n",
      "Model:                            OLS   Adj. R-squared:                  0.731\n",
      "Method:                 Least Squares   F-statistic:                     171.3\n",
      "Date:                Tue, 26 Apr 2022   Prob (F-statistic):           5.39e-70\n",
      "Time:                        15:54:26   Log-Likelihood:                -725.11\n",
      "No. Observations:                 252   AIC:                             1460.\n",
      "Df Residuals:                     247   BIC:                             1478.\n",
      "Df Model:                           4                                         \n",
      "Covariance Type:            nonrobust                                         \n",
      "==============================================================================\n",
      "                 coef    std err          t      P>|t|      [0.025      0.975]\n",
      "------------------------------------------------------------------------------\n",
      "Intercept    -34.8541      7.245     -4.811      0.000     -49.124     -20.584\n",
      "Abdomen        0.9958      0.056     17.760      0.000       0.885       1.106\n",
      "Weight        -0.1356      0.025     -5.480      0.000      -0.184      -0.087\n",
      "Wrist         -1.5056      0.443     -3.401      0.001      -2.377      -0.634\n",
      "Forearm        0.4729      0.182      2.603      0.010       0.115       0.831\n",
      "==============================================================================\n",
      "Omnibus:                        5.800   Durbin-Watson:                   1.798\n",
      "Prob(Omnibus):                  0.055   Jarque-Bera (JB):                3.403\n",
      "Skew:                          -0.030   Prob(JB):                        0.182\n",
      "Kurtosis:                       2.434   Cond. No.                     5.48e+03\n",
      "==============================================================================\n",
      "\n",
      "Notes:\n",
      "[1] Standard Errors assume that the covariance matrix of the errors is correctly specified.\n",
      "[2] The condition number is large, 5.48e+03. This might indicate that there are\n",
      "strong multicollinearity or other numerical problems.\n"
     ]
    }
   ],
   "source": [
    "# para eu ver o summary completo\n",
    "formula_2 = 'bodyfat ~ Abdomen + Weight + Wrist + Forearm + 1'\n",
    "modelo_2 = smf.ols(formula=formula_2, data=df).fit() \n",
    "print(modelo_2.summary())"
   ]
  },
  {
   "cell_type": "code",
   "execution_count": null,
   "metadata": {},
   "outputs": [],
   "source": []
  }
 ],
 "metadata": {
  "interpreter": {
   "hash": "740fc10cca3f415598fdc168405bad31224410a8882d95645e6bf4290cc00231"
  },
  "kernelspec": {
   "display_name": "Python 3.8.7 ('venv': venv)",
   "language": "python",
   "name": "python3"
  },
  "language_info": {
   "codemirror_mode": {
    "name": "ipython",
    "version": 3
   },
   "file_extension": ".py",
   "mimetype": "text/x-python",
   "name": "python",
   "nbconvert_exporter": "python",
   "pygments_lexer": "ipython3",
   "version": "3.8.7"
  },
  "orig_nbformat": 4
 },
 "nbformat": 4,
 "nbformat_minor": 2
}
